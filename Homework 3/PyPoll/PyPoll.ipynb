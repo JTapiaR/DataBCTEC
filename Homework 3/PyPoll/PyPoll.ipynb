{
 "cells": [
  {
   "cell_type": "code",
   "execution_count": 1,
   "metadata": {},
   "outputs": [],
   "source": [
    "import csv"
   ]
  },
  {
   "cell_type": "code",
   "execution_count": 37,
   "metadata": {},
   "outputs": [
    {
     "name": "stdout",
     "output_type": "stream",
     "text": [
      "3521001\n"
     ]
    }
   ],
   "source": [
    "#The total number of votes cast\n",
    "with open(\"election_data.csv\", \"r\") as csv_file:\n",
    "    csv_reader = csv.reader(csv_file, delimiter=',')\n",
    "    Votes=[]\n",
    "    next(csv_reader)\n",
    "    for lines in csv_reader:\n",
    "         Votes.append(lines[0])\n",
    "votes=len(Votes)\n",
    "print(votes)"
   ]
  },
  {
   "cell_type": "code",
   "execution_count": 8,
   "metadata": {},
   "outputs": [],
   "source": [
    "#\"A complete list of candidates who received votes\"\n",
    "with open(\"election_data.csv\", \"r\") as csv_file:\n",
    "    csv_reader = csv.reader(csv_file, delimiter=',')\n",
    "    Candidates=[]\n",
    "    next(csv_reader)\n",
    "    for lines in csv_reader:\n",
    "         Candidates.append(lines[2])\n",
    "            "
   ]
  },
  {
   "cell_type": "code",
   "execution_count": 11,
   "metadata": {},
   "outputs": [
    {
     "data": {
      "text/plain": [
       "3521001"
      ]
     },
     "execution_count": 11,
     "metadata": {},
     "output_type": "execute_result"
    }
   ],
   "source": [
    "len(Candidates)"
   ]
  },
  {
   "cell_type": "code",
   "execution_count": 12,
   "metadata": {},
   "outputs": [
    {
     "name": "stdout",
     "output_type": "stream",
     "text": [
      "['Khan', 'Correy', 'Li', \"O'Tooley\"]\n"
     ]
    }
   ],
   "source": [
    "#\"A complete list of candidates who received votes\"\n",
    "from collections import Counter\n",
    "c=Counter(Candidates)\n",
    "lcandidates=[candid for candid in c if c[candid]>=1]\n",
    "print (lcandidates)"
   ]
  },
  {
   "cell_type": "code",
   "execution_count": 42,
   "metadata": {},
   "outputs": [
    {
     "name": "stdout",
     "output_type": "stream",
     "text": [
      "Counter({'Khan': 2218231, 'Correy': 704200, 'Li': 492940, \"O'Tooley\": 105630})\n"
     ]
    }
   ],
   "source": [
    "#The percentage of votes each candidate won\n",
    "counts1 = Counter(Candidates)\n",
    "print(counts1)\n",
    "# Counter({'apple': 3, 'egg': 2, 'banana': 1})"
   ]
  },
  {
   "cell_type": "code",
   "execution_count": 39,
   "metadata": {},
   "outputs": [
    {
     "data": {
      "text/plain": [
       "[('Khan', 63.00001050837531),\n",
       " ('Correy', 19.999994319797125),\n",
       " ('Li', 13.999996023857989),\n",
       " (\"O'Tooley\", 2.999999147969569)]"
      ]
     },
     "execution_count": 39,
     "metadata": {},
     "output_type": "execute_result"
    }
   ],
   "source": [
    "counts2 = Counter(Candidates)\n",
    "[(i, counts[i] / len(Candidates) * 100.0) for i in counts]"
   ]
  },
  {
   "cell_type": "code",
   "execution_count": 27,
   "metadata": {},
   "outputs": [
    {
     "name": "stdout",
     "output_type": "stream",
     "text": [
      "Counter({'Khan': 2218231, 'Correy': 704200, 'Li': 492940, \"O'Tooley\": 105630})\n"
     ]
    }
   ],
   "source": [
    "#The total number of votes each candidate won\n",
    "counts = Counter(Candidates)\n",
    "print(counts)\n",
    "# Counter({'apple': 3, 'egg': 2, 'banana': 1})"
   ]
  },
  {
   "cell_type": "code",
   "execution_count": 26,
   "metadata": {},
   "outputs": [
    {
     "name": "stdout",
     "output_type": "stream",
     "text": [
      "('Khan', 2218231)\n"
     ]
    }
   ],
   "source": [
    "#The winner of the election based on popular vote.\n",
    "Winner = Counter(Candidates).most_common(1)[0]\n",
    "print(Winner)"
   ]
  },
  {
   "cell_type": "code",
   "execution_count": 41,
   "metadata": {},
   "outputs": [],
   "source": [
    "with open(\"homework3pyPollJT.txt\", \"w\") as text_file:\n",
    "    print(\"Election Results \\n\", file=text_file)\n",
    "    print(\"-------------------\", file=text_file)\n",
    "    print(\"Total Votes: {}\".format(votes), file=text_file)\n",
    "    print(\"-------------------\", file=text_file)\n",
    "    print(\"Candidates : {}\".format(lcandidates), file=text_file)\n",
    "    print(\"Votes per candidates : {}\".format(counts), file=text_file)\n",
    "    print(\"Percentaje of Votes per candidates : {}\".format(counts), file=text_file)\n",
    "    print(\"Winner: {}\".format(Winner), file=text_file)"
   ]
  },
  {
   "cell_type": "code",
   "execution_count": null,
   "metadata": {},
   "outputs": [],
   "source": []
  }
 ],
 "metadata": {
  "kernelspec": {
   "display_name": "Python 3",
   "language": "python",
   "name": "python3"
  },
  "language_info": {
   "codemirror_mode": {
    "name": "ipython",
    "version": 3
   },
   "file_extension": ".py",
   "mimetype": "text/x-python",
   "name": "python",
   "nbconvert_exporter": "python",
   "pygments_lexer": "ipython3",
   "version": "3.7.1"
  }
 },
 "nbformat": 4,
 "nbformat_minor": 2
}
