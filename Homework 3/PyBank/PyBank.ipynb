{
 "cells": [
  {
   "cell_type": "code",
   "execution_count": 2,
   "metadata": {},
   "outputs": [],
   "source": [
    "import csv"
   ]
  },
  {
   "cell_type": "code",
   "execution_count": 16,
   "metadata": {},
   "outputs": [
    {
     "name": "stdout",
     "output_type": "stream",
     "text": [
      "Date\n"
     ]
    }
   ],
   "source": [
    "with open(\"budget_data.csv\", 'r') as cvsfile:\n",
    "    my_reader = csv.DictReader(cvsfile, delimiter=\",\")\n",
    "    Date={}\n",
    "    for row in my_reader:\n",
    "        for header, value in row.items():\n",
    "            try:\n",
    "                Date[header].append(value)\n",
    "            except KeyError:\n",
    "                Date[header] = [value]\n",
    "\n",
    "print('Date')\n",
    "                               "
   ]
  },
  {
   "cell_type": "code",
   "execution_count": 33,
   "metadata": {},
   "outputs": [
    {
     "name": "stdout",
     "output_type": "stream",
     "text": [
      "['Date', 'Jan-2010', 'Feb-2010', 'Mar-2010', 'Apr-2010', 'May-2010', 'Jun-2010', 'Jul-2010', 'Aug-2010', 'Sep-2010', 'Oct-2010', 'Nov-2010', 'Dec-2010', 'Jan-2011', 'Feb-2011', 'Mar-2011', 'Apr-2011', 'May-2011', 'Jun-2011', 'Jul-2011', 'Aug-2011', 'Sep-2011', 'Oct-2011', 'Nov-2011', 'Dec-2011', 'Jan-2012', 'Feb-2012', 'Mar-2012', 'Apr-2012', 'May-2012', 'Jun-2012', 'Jul-2012', 'Aug-2012', 'Sep-2012', 'Oct-2012', 'Nov-2012', 'Dec-2012', 'Jan-2013', 'Feb-2013', 'Mar-2013', 'Apr-2013', 'May-2013', 'Jun-2013', 'Jul-2013', 'Aug-2013', 'Sep-2013', 'Oct-2013', 'Nov-2013', 'Dec-2013', 'Jan-2014', 'Feb-2014', 'Mar-2014', 'Apr-2014', 'May-2014', 'Jun-2014', 'Jul-2014', 'Aug-2014', 'Sep-2014', 'Oct-2014', 'Nov-2014', 'Dec-2014', 'Jan-2015', 'Feb-2015', 'Mar-2015', 'Apr-2015', 'May-2015', 'Jun-2015', 'Jul-2015', 'Aug-2015', 'Sep-2015', 'Oct-2015', 'Nov-2015', 'Dec-2015', 'Jan-2016', 'Feb-2016', 'Mar-2016', 'Apr-2016', 'May-2016', 'Jun-2016', 'Jul-2016', 'Aug-2016', 'Sep-2016', 'Oct-2016', 'Nov-2016', 'Dec-2016', 'Jan-2017', 'Feb-2017']\n"
     ]
    }
   ],
   "source": [
    "with open(\"budget_data.csv\", \"r\") as csv_file:\n",
    "    csv_reader = csv.reader(csv_file, delimiter=',')\n",
    "    Date=[]\n",
    "    for lines in csv_reader:\n",
    "         Date.append(lines[0])\n",
    "    print(Date)"
   ]
  },
  {
   "cell_type": "code",
   "execution_count": 58,
   "metadata": {},
   "outputs": [
    {
     "name": "stdout",
     "output_type": "stream",
     "text": [
      "['Jan-2010', 'Feb-2010', 'Mar-2010', 'Apr-2010', 'May-2010', 'Jun-2010', 'Jul-2010', 'Aug-2010', 'Sep-2010', 'Oct-2010', 'Nov-2010', 'Dec-2010', 'Jan-2011', 'Feb-2011', 'Mar-2011', 'Apr-2011', 'May-2011', 'Jun-2011', 'Jul-2011', 'Aug-2011', 'Sep-2011', 'Oct-2011', 'Nov-2011', 'Dec-2011', 'Jan-2012', 'Feb-2012', 'Mar-2012', 'Apr-2012', 'May-2012', 'Jun-2012', 'Jul-2012', 'Aug-2012', 'Sep-2012', 'Oct-2012', 'Nov-2012', 'Dec-2012', 'Jan-2013', 'Feb-2013', 'Mar-2013', 'Apr-2013', 'May-2013', 'Jun-2013', 'Jul-2013', 'Aug-2013', 'Sep-2013', 'Oct-2013', 'Nov-2013', 'Dec-2013', 'Jan-2014', 'Feb-2014', 'Mar-2014', 'Apr-2014', 'May-2014', 'Jun-2014', 'Jul-2014', 'Aug-2014', 'Sep-2014', 'Oct-2014', 'Nov-2014', 'Dec-2014', 'Jan-2015', 'Feb-2015', 'Mar-2015', 'Apr-2015', 'May-2015', 'Jun-2015', 'Jul-2015', 'Aug-2015', 'Sep-2015', 'Oct-2015', 'Nov-2015', 'Dec-2015', 'Jan-2016', 'Feb-2016', 'Mar-2016', 'Apr-2016', 'May-2016', 'Jun-2016', 'Jul-2016', 'Aug-2016', 'Sep-2016', 'Oct-2016', 'Nov-2016', 'Dec-2016', 'Jan-2017', 'Feb-2017']\n"
     ]
    }
   ],
   "source": [
    "with open(\"budget_data.csv\", \"r\") as csv_file:\n",
    "    csv_reader = csv.reader(csv_file, delimiter=',')\n",
    "    Date=[]\n",
    "    next(csv_reader )\n",
    "    for lines in csv_reader:\n",
    "         Date.append(lines[0])\n",
    "    print(Date)"
   ]
  },
  {
   "cell_type": "code",
   "execution_count": 59,
   "metadata": {},
   "outputs": [
    {
     "name": "stdout",
     "output_type": "stream",
     "text": [
      "['867884', '984655', '322013', '-69417', '310503', '522857', '1033096', '604885', '-216386', '477532', '893810', '-80353', '779806', '-335203', '697845', '793163', '485070', '584122', '62729', '668179', '899906', '834719', '132003', '309978', '-755566', '1170593', '252788', '1151518', '817256', '570757', '506702', '-1022534', '475062', '779976', '144175', '542494', '359333', '321469', '67780', '471435', '565603', '872480', '789480', '999942', '-1196225', '268997', '-687986', '1150461', '682458', '617856', '824098', '581943', '132864', '448062', '689161', '800701', '1166643', '947333', '578668', '988505', '1139715', '1029471', '687533', '-524626', '158620', '87795', '423389', '840723', '568529', '332067', '989499', '778237', '650000', '-1100387', '-174946', '757143', '445709', '712961', '-1163797', '569899', '768450', '102685', '795914', '60988', '138230', '671099']\n"
     ]
    }
   ],
   "source": [
    "with open(\"budget_data.csv\", \"r\") as csv_file:\n",
    "    csv_reader = csv.reader(csv_file, delimiter=',')\n",
    "    Prolos=[]\n",
    "    next(csv_reader )\n",
    "    for lines in csv_reader:\n",
    "         Prolos.append(lines[1])\n",
    "    print(Prolos)"
   ]
  },
  {
   "cell_type": "code",
   "execution_count": 158,
   "metadata": {},
   "outputs": [
    {
     "data": {
      "text/plain": [
       "86"
      ]
     },
     "execution_count": 158,
     "metadata": {},
     "output_type": "execute_result"
    }
   ],
   "source": [
    "\"The total number of months included in the dataset\"\n",
    "len(Date)\n",
    "meses=len(Date)\n",
    "meses"
   ]
  },
  {
   "cell_type": "code",
   "execution_count": 62,
   "metadata": {},
   "outputs": [],
   "source": [
    "Prolosn = [int(i) for i in Prolos]"
   ]
  },
  {
   "cell_type": "code",
   "execution_count": 65,
   "metadata": {},
   "outputs": [
    {
     "data": {
      "text/plain": [
       "[867884,\n",
       " 984655,\n",
       " 322013,\n",
       " -69417,\n",
       " 310503,\n",
       " 522857,\n",
       " 1033096,\n",
       " 604885,\n",
       " -216386,\n",
       " 477532,\n",
       " 893810,\n",
       " -80353,\n",
       " 779806,\n",
       " -335203,\n",
       " 697845,\n",
       " 793163,\n",
       " 485070,\n",
       " 584122,\n",
       " 62729,\n",
       " 668179,\n",
       " 899906,\n",
       " 834719,\n",
       " 132003,\n",
       " 309978,\n",
       " -755566,\n",
       " 1170593,\n",
       " 252788,\n",
       " 1151518,\n",
       " 817256,\n",
       " 570757,\n",
       " 506702,\n",
       " -1022534,\n",
       " 475062,\n",
       " 779976,\n",
       " 144175,\n",
       " 542494,\n",
       " 359333,\n",
       " 321469,\n",
       " 67780,\n",
       " 471435,\n",
       " 565603,\n",
       " 872480,\n",
       " 789480,\n",
       " 999942,\n",
       " -1196225,\n",
       " 268997,\n",
       " -687986,\n",
       " 1150461,\n",
       " 682458,\n",
       " 617856,\n",
       " 824098,\n",
       " 581943,\n",
       " 132864,\n",
       " 448062,\n",
       " 689161,\n",
       " 800701,\n",
       " 1166643,\n",
       " 947333,\n",
       " 578668,\n",
       " 988505,\n",
       " 1139715,\n",
       " 1029471,\n",
       " 687533,\n",
       " -524626,\n",
       " 158620,\n",
       " 87795,\n",
       " 423389,\n",
       " 840723,\n",
       " 568529,\n",
       " 332067,\n",
       " 989499,\n",
       " 778237,\n",
       " 650000,\n",
       " -1100387,\n",
       " -174946,\n",
       " 757143,\n",
       " 445709,\n",
       " 712961,\n",
       " -1163797,\n",
       " 569899,\n",
       " 768450,\n",
       " 102685,\n",
       " 795914,\n",
       " 60988,\n",
       " 138230,\n",
       " 671099]"
      ]
     },
     "execution_count": 65,
     "metadata": {},
     "output_type": "execute_result"
    }
   ],
   "source": [
    "Prolosn"
   ]
  },
  {
   "cell_type": "code",
   "execution_count": 163,
   "metadata": {},
   "outputs": [
    {
     "name": "stdout",
     "output_type": "stream",
     "text": [
      "38382578\n"
     ]
    }
   ],
   "source": [
    "#\"The net total amount of \"Profit/Losses\" over the entire period\"\n",
    "suma=0\n",
    "for i in Prolosn:\n",
    "    suma=suma+i\n",
    "print (suma)"
   ]
  },
  {
   "cell_type": "code",
   "execution_count": 125,
   "metadata": {},
   "outputs": [
    {
     "name": "stdout",
     "output_type": "stream",
     "text": [
      "116771\n",
      "-662642\n",
      "-391430\n",
      "379920\n",
      "212354\n",
      "510239\n",
      "-428211\n",
      "-821271\n",
      "693918\n",
      "416278\n",
      "-974163\n",
      "860159\n",
      "-1115009\n",
      "1033048\n",
      "95318\n",
      "-308093\n",
      "99052\n",
      "-521393\n",
      "605450\n",
      "231727\n",
      "-65187\n",
      "-702716\n",
      "177975\n",
      "-1065544\n",
      "1926159\n",
      "-917805\n",
      "898730\n",
      "-334262\n",
      "-246499\n",
      "-64055\n",
      "-1529236\n",
      "1497596\n",
      "304914\n",
      "-635801\n",
      "398319\n",
      "-183161\n",
      "-37864\n",
      "-253689\n",
      "403655\n",
      "94168\n",
      "306877\n",
      "-83000\n",
      "210462\n",
      "-2196167\n",
      "1465222\n",
      "-956983\n",
      "1838447\n",
      "-468003\n",
      "-64602\n",
      "206242\n",
      "-242155\n",
      "-449079\n",
      "315198\n",
      "241099\n",
      "111540\n",
      "365942\n",
      "-219310\n",
      "-368665\n",
      "409837\n",
      "151210\n",
      "-110244\n",
      "-341938\n",
      "-1212159\n",
      "683246\n",
      "-70825\n",
      "335594\n",
      "417334\n",
      "-272194\n",
      "-236462\n",
      "657432\n",
      "-211262\n",
      "-128237\n",
      "-1750387\n",
      "925441\n",
      "932089\n",
      "-311434\n",
      "267252\n",
      "-1876758\n",
      "1733696\n",
      "198551\n",
      "-665765\n",
      "693229\n",
      "-734926\n",
      "77242\n",
      "532869\n"
     ]
    }
   ],
   "source": [
    "#The average of the changes in \"Profit/Losses\" over the entire period\n",
    "from collections import Counter\n",
    "c=Counter(Prolosn)\n",
    "for x,y in zip(Prolosn[0::],Prolosn[1::]):\n",
    "        print (y-x)"
   ]
  },
  {
   "cell_type": "code",
   "execution_count": 137,
   "metadata": {},
   "outputs": [
    {
     "name": "stdout",
     "output_type": "stream",
     "text": [
      "[116771, -662642, -391430, 379920, 212354, 510239, -428211, -821271, 693918, 416278, -974163, 860159, -1115009, 1033048, 95318, -308093, 99052, -521393, 605450, 231727, -65187, -702716, 177975, -1065544, 1926159, -917805, 898730, -334262, -246499, -64055, -1529236, 1497596, 304914, -635801, 398319, -183161, -37864, -253689, 403655, 94168, 306877, -83000, 210462, -2196167, 1465222, -956983, 1838447, -468003, -64602, 206242, -242155, -449079, 315198, 241099, 111540, 365942, -219310, -368665, 409837, 151210, -110244, -341938, -1212159, 683246, -70825, 335594, 417334, -272194, -236462, 657432, -211262, -128237, -1750387, 925441, 932089, -311434, 267252, -1876758, 1733696, 198551, -665765, 693229, -734926, 77242, 532869]\n"
     ]
    }
   ],
   "source": [
    "Changeprom=[]\n",
    "#c=Counter(Prolosn)\n",
    "for x,y in zip(Prolosn[0::],Prolosn[1::]):\n",
    "    Changeprom.append(y-x)\n",
    "print (Changeprom)"
   ]
  },
  {
   "cell_type": "code",
   "execution_count": 140,
   "metadata": {},
   "outputs": [],
   "source": [
    "Changepromn = [int(i) for i in Changeprom]"
   ]
  },
  {
   "cell_type": "code",
   "execution_count": 144,
   "metadata": {},
   "outputs": [
    {
     "data": {
      "text/plain": [
       "[116771,\n",
       " -662642,\n",
       " -391430,\n",
       " 379920,\n",
       " 212354,\n",
       " 510239,\n",
       " -428211,\n",
       " -821271,\n",
       " 693918,\n",
       " 416278,\n",
       " -974163,\n",
       " 860159,\n",
       " -1115009,\n",
       " 1033048,\n",
       " 95318,\n",
       " -308093,\n",
       " 99052,\n",
       " -521393,\n",
       " 605450,\n",
       " 231727,\n",
       " -65187,\n",
       " -702716,\n",
       " 177975,\n",
       " -1065544,\n",
       " 1926159,\n",
       " -917805,\n",
       " 898730,\n",
       " -334262,\n",
       " -246499,\n",
       " -64055,\n",
       " -1529236,\n",
       " 1497596,\n",
       " 304914,\n",
       " -635801,\n",
       " 398319,\n",
       " -183161,\n",
       " -37864,\n",
       " -253689,\n",
       " 403655,\n",
       " 94168,\n",
       " 306877,\n",
       " -83000,\n",
       " 210462,\n",
       " -2196167,\n",
       " 1465222,\n",
       " -956983,\n",
       " 1838447,\n",
       " -468003,\n",
       " -64602,\n",
       " 206242,\n",
       " -242155,\n",
       " -449079,\n",
       " 315198,\n",
       " 241099,\n",
       " 111540,\n",
       " 365942,\n",
       " -219310,\n",
       " -368665,\n",
       " 409837,\n",
       " 151210,\n",
       " -110244,\n",
       " -341938,\n",
       " -1212159,\n",
       " 683246,\n",
       " -70825,\n",
       " 335594,\n",
       " 417334,\n",
       " -272194,\n",
       " -236462,\n",
       " 657432,\n",
       " -211262,\n",
       " -128237,\n",
       " -1750387,\n",
       " 925441,\n",
       " 932089,\n",
       " -311434,\n",
       " 267252,\n",
       " -1876758,\n",
       " 1733696,\n",
       " 198551,\n",
       " -665765,\n",
       " 693229,\n",
       " -734926,\n",
       " 77242,\n",
       " 532869]"
      ]
     },
     "execution_count": 144,
     "metadata": {},
     "output_type": "execute_result"
    }
   ],
   "source": [
    "Changepromn"
   ]
  },
  {
   "cell_type": "code",
   "execution_count": 145,
   "metadata": {},
   "outputs": [
    {
     "name": "stdout",
     "output_type": "stream",
     "text": [
      "-196785\n"
     ]
    }
   ],
   "source": [
    "suma=0\n",
    "for i in Changepromn:\n",
    "    suma=suma+i\n",
    "print (suma)"
   ]
  },
  {
   "cell_type": "code",
   "execution_count": 146,
   "metadata": {},
   "outputs": [],
   "source": [
    "cambiosvf= suma/len(Changepromn)"
   ]
  },
  {
   "cell_type": "code",
   "execution_count": 147,
   "metadata": {},
   "outputs": [
    {
     "data": {
      "text/plain": [
       "-2315.1176470588234"
      ]
     },
     "execution_count": 147,
     "metadata": {},
     "output_type": "execute_result"
    }
   ],
   "source": [
    "#The average of the changes in \"Profit/Losses\" over the entire period VF\n",
    "cambiosvf"
   ]
  },
  {
   "cell_type": "code",
   "execution_count": 154,
   "metadata": {},
   "outputs": [
    {
     "data": {
      "text/plain": [
       "(1926159, 'Jan-2012')"
      ]
     },
     "execution_count": 154,
     "metadata": {},
     "output_type": "execute_result"
    }
   ],
   "source": [
    "#The greatest increase in profits (date and amount) over the entire period\n",
    "maximo=Counter(zip(Changeprom,Date))\n",
    "incremento=max(maximo)\n",
    "incremento\n"
   ]
  },
  {
   "cell_type": "code",
   "execution_count": 153,
   "metadata": {},
   "outputs": [
    {
     "data": {
      "text/plain": [
       "(-2196167, 'Aug-2013')"
      ]
     },
     "execution_count": 153,
     "metadata": {},
     "output_type": "execute_result"
    }
   ],
   "source": [
    "#The greatest decrease in losses (date and amount) over the entire period\n",
    "minimo=Counter(zip(Changeprom,Date))\n",
    "decremento=min(minimo)\n",
    "decremento"
   ]
  },
  {
   "cell_type": "code",
   "execution_count": 189,
   "metadata": {},
   "outputs": [],
   "source": [
    "with open(\"homework3pybankJT.txt\", \"w\") as text_file:\n",
    "    print(\"Financial Análisis \\n\", file=text_file)\n",
    "    print(\"Total Months: {}\".format(meses), file=text_file)\n",
    "    print(\"Total : {}\".format(suma), file=text_file)\n",
    "    print(\"Average  Change : {}\".format(cambiosvf), file=text_file)\n",
    "    print(\"Greatest Increase in Profits: {}\".format(incremento), file=text_file)\n",
    "    print(\"Greatest Decrease in Profits: {}\".format(decremento), file=text_file)"
   ]
  },
  {
   "cell_type": "code",
   "execution_count": null,
   "metadata": {},
   "outputs": [],
   "source": []
  }
 ],
 "metadata": {
  "kernelspec": {
   "display_name": "Python 3",
   "language": "python",
   "name": "python3"
  },
  "language_info": {
   "codemirror_mode": {
    "name": "ipython",
    "version": 3
   },
   "file_extension": ".py",
   "mimetype": "text/x-python",
   "name": "python",
   "nbconvert_exporter": "python",
   "pygments_lexer": "ipython3",
   "version": "3.7.1"
  }
 },
 "nbformat": 4,
 "nbformat_minor": 2
}
